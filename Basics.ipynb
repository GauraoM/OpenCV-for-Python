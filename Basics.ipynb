{
 "cells": [
  {
   "cell_type": "code",
   "execution_count": 2,
   "metadata": {},
   "outputs": [],
   "source": [
    "import cv2 as cv"
   ]
  },
  {
   "cell_type": "code",
   "execution_count": 2,
   "metadata": {},
   "outputs": [
    {
     "data": {
      "text/plain": [
       "-1"
      ]
     },
     "execution_count": 2,
     "metadata": {},
     "output_type": "execute_result"
    }
   ],
   "source": [
    "img = cv.imread(r\"C:\\Users\\gaura\\Desktop\\Opencv\\flower.jpeg\") #reading image\n",
    "cv.imshow('Flower',img) # Displaying the image\n",
    "cv.waitKey(0) # Display the frame for infinite time"
   ]
  },
  {
   "cell_type": "markdown",
   "metadata": {},
   "source": [
    "#### Rescaling & Resizing the Image\n",
    "##### Rescaling & Resizing the image to reduce the computational strain"
   ]
  },
  {
   "cell_type": "code",
   "execution_count": 4,
   "metadata": {},
   "outputs": [],
   "source": [
    "# Rescaling function\n",
    "def rescaleFrame(frame, scale=0.75):\n",
    "    width = int(frame.shape[1] * scale) # Getting width\n",
    "    height = int(frame.shape[0] * scale) # Getting height\n",
    "\n",
    "    dimensions = (width, height)\n",
    "    return cv.resize(frame, dimensions, interpolation=cv.INTER_AREA)\n",
    "\n",
    "resized_image = rescaleFrame(img)\n",
    "cv.imshow(\"Image\",resized_image)"
   ]
  },
  {
   "cell_type": "markdown",
   "metadata": {},
   "source": [
    "#### Drawing Shape and putting text"
   ]
  },
  {
   "cell_type": "code",
   "execution_count": 1,
   "metadata": {},
   "outputs": [],
   "source": [
    "import cv2 as cv\n",
    "import numpy as np"
   ]
  },
  {
   "cell_type": "code",
   "execution_count": 2,
   "metadata": {},
   "outputs": [
    {
     "data": {
      "text/plain": [
       "-1"
      ]
     },
     "execution_count": 2,
     "metadata": {},
     "output_type": "execute_result"
    }
   ],
   "source": [
    "blank = np.zeros((500,500,3), dtype=\"uint8\") # creating blank image(width, height, channels)\n",
    "cv.imshow(\"Blank\",blank) #Displayingimage\n",
    "\n",
    "blank[:] = 0,255,0 # Creating green image\n",
    "cv.imshow(\"Green\", blank)\n",
    "\n",
    "cv.waitKey(0)"
   ]
  },
  {
   "cell_type": "code",
   "execution_count": 6,
   "metadata": {},
   "outputs": [
    {
     "data": {
      "text/plain": [
       "-1"
      ]
     },
     "execution_count": 6,
     "metadata": {},
     "output_type": "execute_result"
    }
   ],
   "source": [
    "# Drawing Rectangle\n",
    "blank = np.zeros((500,500,3), dtype=\"uint8\") \n",
    "\n",
    "# Creating rectangle (blank, pt1, pt2, color, thickness)\n",
    "cv.rectangle(blank, (0,0), (250,250),(0,255,0), thickness=1)\n",
    "cv.imshow(\"Rectangle\", blank)\n",
    "\n",
    "#### Drawing circle (blank, centre, radius, color, thickness)\n",
    "cv.circle(blank, (250,250),40,(0,255,0), thickness=-1)\n",
    "cv.imshow(\"Circle\", blank)\n",
    "\n",
    "cv.waitKey(0)"
   ]
  },
  {
   "cell_type": "markdown",
   "metadata": {},
   "source": [
    "#### 5 Essential Functions\n"
   ]
  },
  {
   "cell_type": "markdown",
   "metadata": {},
   "source": [
    "##### 1.Gray scale image"
   ]
  },
  {
   "cell_type": "code",
   "execution_count": 7,
   "metadata": {},
   "outputs": [
    {
     "data": {
      "text/plain": [
       "-1"
      ]
     },
     "execution_count": 7,
     "metadata": {},
     "output_type": "execute_result"
    }
   ],
   "source": [
    "img = cv.imread(r\"C:\\Users\\gaura\\Desktop\\Opencv\\flower.jpeg\") #reading image\n",
    "cv.imshow('Flower',img) # Displaying the image\n",
    "\n",
    "# Converting to grayscale\n",
    "gray = cv.cvtColor(img, cv.COLOR_BGR2GRAY)\n",
    "cv.imshow(\"Gray\", gray)\n",
    "cv.waitKey(0)"
   ]
  },
  {
   "cell_type": "markdown",
   "metadata": {},
   "source": [
    "##### 2.Blur image"
   ]
  },
  {
   "cell_type": "code",
   "execution_count": 9,
   "metadata": {},
   "outputs": [
    {
     "data": {
      "text/plain": [
       "-1"
      ]
     },
     "execution_count": 9,
     "metadata": {},
     "output_type": "execute_result"
    }
   ],
   "source": [
    "img = cv.imread(r\"C:\\Users\\gaura\\Desktop\\Opencv\\flower.jpeg\") #reading image\n",
    "cv.imshow('Flower',img) # Displaying the image\n",
    "\n",
    "# Blur the image with Gaussian\n",
    "blur = cv.GaussianBlur(img, (3,3), cv.BORDER_DEFAULT)\n",
    "cv.imshow(\"Blur\", blur)\n",
    "cv.waitKey(0)"
   ]
  },
  {
   "cell_type": "markdown",
   "metadata": {},
   "source": [
    "##### 3.Edge Cascade"
   ]
  },
  {
   "cell_type": "code",
   "execution_count": 10,
   "metadata": {},
   "outputs": [
    {
     "data": {
      "text/plain": [
       "-1"
      ]
     },
     "execution_count": 10,
     "metadata": {},
     "output_type": "execute_result"
    }
   ],
   "source": [
    "img = cv.imread(r\"C:\\Users\\gaura\\Desktop\\Opencv\\flower.jpeg\") #reading image\n",
    "cv.imshow('Flower',img) # Displaying the image\n",
    "\n",
    "#Edge Detection (image, threshold1, threshold2)\n",
    "canny = cv.Canny(img, 125, 175)\n",
    "cv.imshow(\"Canny\", canny)\n",
    "cv.waitKey(0)"
   ]
  },
  {
   "cell_type": "markdown",
   "metadata": {},
   "source": [
    "##### 4.Dilating"
   ]
  },
  {
   "cell_type": "code",
   "execution_count": 12,
   "metadata": {},
   "outputs": [
    {
     "data": {
      "text/plain": [
       "-1"
      ]
     },
     "execution_count": 12,
     "metadata": {},
     "output_type": "execute_result"
    }
   ],
   "source": [
    "img = cv.imread(r\"C:\\Users\\gaura\\Desktop\\Opencv\\flower.jpeg\") #reading image\n",
    "cv.imshow('Flower',img) # Displaying the image\n",
    "\n",
    "#Edge Detection (image, threshold1, threshold2)\n",
    "canny = cv.Canny(img, 125, 175)\n",
    "cv.imshow(\"Canny\", canny)\n",
    "\n",
    "# Dilate the image\n",
    "dilated = cv.dilate(canny, (3,3), iterations=2)\n",
    "cv.imshow(\"Dilated\", dilated)\n",
    "\n",
    "cv.waitKey(0)"
   ]
  },
  {
   "cell_type": "markdown",
   "metadata": {},
   "source": [
    "##### 5.Eroding"
   ]
  },
  {
   "cell_type": "code",
   "execution_count": 14,
   "metadata": {},
   "outputs": [
    {
     "data": {
      "text/plain": [
       "-1"
      ]
     },
     "execution_count": 14,
     "metadata": {},
     "output_type": "execute_result"
    }
   ],
   "source": [
    "img = cv.imread(r\"C:\\Users\\gaura\\Desktop\\Opencv\\flower.jpeg\") #reading image\n",
    "cv.imshow('Flower',img) # Displaying the image\n",
    "\n",
    "#Edge Detection (image, threshold1, threshold2)\n",
    "canny = cv.Canny(img, 125, 175)\n",
    "cv.imshow(\"Canny\", canny)\n",
    "\n",
    "# Dilate the image (src, kernel, dst=None, anchor=None, iterations=None)\n",
    "dilated = cv.dilate(canny, (3,3), iterations=2)\n",
    "cv.imshow(\"Dilated\", dilated)\n",
    "\n",
    "#### Erode the image (src, kernel, dst=None, anchor=None, iterations=None)\n",
    "eroded = cv.erode(dilated, (3,3), iterations=2)\n",
    "cv.imshow(\"Eroded\", eroded)\n",
    "\n",
    "cv.waitKey(0)"
   ]
  },
  {
   "cell_type": "markdown",
   "metadata": {},
   "source": [
    "#### Transformations"
   ]
  },
  {
   "cell_type": "markdown",
   "metadata": {},
   "source": [
    "##### Translation(shifting image around x and y-axis)"
   ]
  },
  {
   "cell_type": "code",
   "execution_count": 16,
   "metadata": {},
   "outputs": [],
   "source": [
    "img = cv.imread(r\"C:\\Users\\gaura\\Desktop\\Opencv\\flower.jpeg\") #reading image\n",
    "cv.imshow('Flower',img) # Displaying the image\n",
    "\n",
    "def translate(img,x,y):\n",
    "    # create translation matrix\n",
    "    transMat = np.float32([[1,0,x],[0,1,y]])\n",
    "    # get the dimensions\n",
    "    dimensions = (img.shape[1], img.shape[0])\n",
    "    return cv.warpAffine(img, transMat, dimensions)\n",
    "\n",
    "#-x = left\n",
    "# -y = Up\n",
    "# x = right\n",
    "# y = down\n",
    "\n",
    "translated = translate(img, 100, 200) \n",
    "cv.imshow(\"Translated\", translated)\n",
    "\n",
    "cv.waitKey(0)"
   ]
  },
  {
   "cell_type": "code",
   "execution_count": 3,
   "metadata": {},
   "outputs": [
    {
     "name": "stdout",
     "output_type": "stream",
     "text": [
      "2310 is:\n"
     ]
    }
   ],
   "source": [
    "img = cv.imread(r\"C:\\Users\\gaura\\Desktop\\Opencv\\flower.jpeg\") #reading image\n",
    "cv.imshow('Flower',img) # Displaying the image\n",
    "\n",
    "# Converting BGR to grayscale\n",
    "gray = cv.cvtColor(img, cv.COLOR_BGR2GRAY)\n",
    "cv.imshow(\"Gray\", gray)\n",
    "\n",
    "#Edge Detection (image, threshold1, threshold2)\n",
    "canny = cv.Canny(img, 125, 175)\n",
    "cv.imshow(\"Canny\", canny)\n",
    "\n",
    "# Contour Detection in an image (image, mode, method)\n",
    "contours, hierarchies = cv.findContours(canny, cv.RETR_LIST, cv.CHAIN_APPROX_NONE)\n",
    "print(f'{len(contours)} is:')"
   ]
  }
 ],
 "metadata": {
  "interpreter": {
   "hash": "0c6c33f9d34af5945528a99c58e5b91b2a1f3352bb75e78595a5d8497e2277ff"
  },
  "kernelspec": {
   "display_name": "Python 3.8.8 ('base')",
   "language": "python",
   "name": "python3"
  },
  "language_info": {
   "codemirror_mode": {
    "name": "ipython",
    "version": 3
   },
   "file_extension": ".py",
   "mimetype": "text/x-python",
   "name": "python",
   "nbconvert_exporter": "python",
   "pygments_lexer": "ipython3",
   "version": "3.8.8"
  },
  "orig_nbformat": 4
 },
 "nbformat": 4,
 "nbformat_minor": 2
}
