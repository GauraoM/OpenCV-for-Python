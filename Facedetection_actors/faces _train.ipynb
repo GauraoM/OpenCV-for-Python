{
 "cells": [
  {
   "cell_type": "code",
   "execution_count": 12,
   "metadata": {},
   "outputs": [],
   "source": [
    "import os\n",
    "import cv2 as cv\n",
    "import numpy as np"
   ]
  },
  {
   "cell_type": "code",
   "execution_count": 13,
   "metadata": {},
   "outputs": [],
   "source": [
    "people = ['ben_afflek', 'elton_john', 'jerry_seinfeld', 'madonna', 'mindy_kaling']\n",
    "DIR = r\"C:\\Users\\gaura\\Desktop\\Opencv\\train\""
   ]
  },
  {
   "cell_type": "code",
   "execution_count": 14,
   "metadata": {},
   "outputs": [],
   "source": [
    "# Reading haar_face.xml file and store it to haar_cascade\n",
    "haar_cascade = cv.CascadeClassifier(r'C:\\Users\\gaura\\Desktop\\Opencv\\harr_face.xml')"
   ]
  },
  {
   "cell_type": "code",
   "execution_count": 20,
   "metadata": {},
   "outputs": [],
   "source": [
    "features = []\n",
    "labels = []\n",
    "\n",
    "def create_train():\n",
    "    # Iterating over person in people\n",
    "    for person in people:\n",
    "        path = os.path.join(DIR, person)\n",
    "        label = people.index(person)\n",
    "\n",
    "        # Iterating over each image in each folder\n",
    "        for img in os.listdir(path):\n",
    "            img_path = os.path.join(path,img)\n",
    "\n",
    "            # Read the image\n",
    "            img_array = cv.imread(img_path)\n",
    "            gray = cv.cvtColor(img_array, cv.COLOR_BGR2GRAY)\n",
    "\n",
    "            # Apply Haar Cascade to image\n",
    "            faces_rect = haar_cascade.detectMultiScale(gray, scaleFactor=1.1, minNeighbors=4)\n",
    "\n",
    "            # Loop over the each image\n",
    "            for (x,y,w,h)  in faces_rect:\n",
    "                faces_roi = gray[y:y+h, x:x+w] # Get the region of interest\n",
    "                features.append(faces_roi) # Append it to features\n",
    "                labels.append(label) # Append the index to labels\n",
    "\n",
    "create_train()                \n",
    "\n",
    "# Converting to numpy array\n",
    "features= np.array(features, dtype='object')\n",
    "labels = np.array(labels)\n",
    "\n",
    "face_recognizer = cv.face.LBPHFaceRecognizer_create()\n",
    "\n",
    "# Train the recognizer on the features list and labels list\n",
    "face_recognizer.train(features, labels)\n",
    "\n",
    "# Saving trained model to yml file\n",
    "face_recognizer.save(\"face_trained.yml\")\n",
    "# saving the features and labels\n",
    "np.save('features.npy', features)\n",
    "np.save('labels.npy', labels)"
   ]
  }
 ],
 "metadata": {
  "interpreter": {
   "hash": "0c6c33f9d34af5945528a99c58e5b91b2a1f3352bb75e78595a5d8497e2277ff"
  },
  "kernelspec": {
   "display_name": "Python 3.8.8 ('base')",
   "language": "python",
   "name": "python3"
  },
  "language_info": {
   "codemirror_mode": {
    "name": "ipython",
    "version": 3
   },
   "file_extension": ".py",
   "mimetype": "text/x-python",
   "name": "python",
   "nbconvert_exporter": "python",
   "pygments_lexer": "ipython3",
   "version": "3.8.8"
  },
  "orig_nbformat": 4
 },
 "nbformat": 4,
 "nbformat_minor": 2
}
