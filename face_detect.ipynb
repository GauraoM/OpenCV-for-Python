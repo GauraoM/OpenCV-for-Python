{
 "cells": [
  {
   "cell_type": "code",
   "execution_count": 1,
   "metadata": {},
   "outputs": [],
   "source": [
    "import cv2 as cv"
   ]
  },
  {
   "cell_type": "code",
   "execution_count": 8,
   "metadata": {},
   "outputs": [
    {
     "name": "stdout",
     "output_type": "stream",
     "text": [
      "No of faces found:1\n"
     ]
    },
    {
     "data": {
      "text/plain": [
       "-1"
      ]
     },
     "execution_count": 8,
     "metadata": {},
     "output_type": "execute_result"
    }
   ],
   "source": [
    "img = cv.imread(r\"C:\\Users\\gaura\\Desktop\\Opencv\\person.jpg\") # Reading the image\n",
    "cv.imshow(\"Person\", img) # Displaying\n",
    "\n",
    "gray = cv.cvtColor(img, cv.COLOR_BGR2GRAY)\n",
    "cv.imshow(\"GRay\",gray)\n",
    "\n",
    "# Reading haar_face.xml file and store it to haar_cascade\n",
    "haar_cascade = cv.CascadeClassifier(r'C:\\Users\\gaura\\Desktop\\Opencv\\harr_face.xml')\n",
    "\n",
    "faces_rect = haar_cascade.detectMultiScale(gray, scaleFactor=1.1, minNeighbors=3)\n",
    "\n",
    "print((f'No of faces found:{len(faces_rect)}'))\n",
    "\n",
    "# Draw the box over face \n",
    "for (x,y,w,h) in faces_rect:\n",
    "    cv.rectangle(img, (x,y), (x+w, y+h), (0,255,0), thickness=2)\n",
    "\n",
    "cv.imshow(\"Detected Faces\", img)  # Displaying the image\n",
    "\n",
    "cv.waitKey(0)"
   ]
  }
 ],
 "metadata": {
  "interpreter": {
   "hash": "0c6c33f9d34af5945528a99c58e5b91b2a1f3352bb75e78595a5d8497e2277ff"
  },
  "kernelspec": {
   "display_name": "Python 3.8.8 ('base')",
   "language": "python",
   "name": "python3"
  },
  "language_info": {
   "codemirror_mode": {
    "name": "ipython",
    "version": 3
   },
   "file_extension": ".py",
   "mimetype": "text/x-python",
   "name": "python",
   "nbconvert_exporter": "python",
   "pygments_lexer": "ipython3",
   "version": "3.8.8"
  },
  "orig_nbformat": 4
 },
 "nbformat": 4,
 "nbformat_minor": 2
}
